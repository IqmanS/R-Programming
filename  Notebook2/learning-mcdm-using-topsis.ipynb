{
 "cells": [
  {
   "cell_type": "markdown",
   "id": "4a5164ec",
   "metadata": {
    "id": "xsVvMZdV2NCK",
    "papermill": {
     "duration": 0.007193,
     "end_time": "2023-06-09T12:00:53.741778",
     "exception": false,
     "start_time": "2023-06-09T12:00:53.734585",
     "status": "completed"
    },
    "tags": []
   },
   "source": [
    "---\n",
    "# **Multi-criteria decision making (MCDM) using Topsis**\n",
    "---\n",
    "- MCDM refers to select the best choice, having multiple-conflicting-criteria.\n",
    "- Topsis helps to generate single score to make the decision\n",
    "\n",
    "### **Self learning resource**\n",
    "- Tutorial on Topsis **<a href=\"https://en.wikipedia.org/wiki/TOPSIS\" target=\"_blank\"> Click Here</a>** \n",
    "\n",
    "\n"
   ]
  },
  {
   "cell_type": "markdown",
   "id": "d2277e63",
   "metadata": {
    "id": "aA5v8sqBvBmy",
    "papermill": {
     "duration": 0.005294,
     "end_time": "2023-06-09T12:00:53.752659",
     "exception": false,
     "start_time": "2023-06-09T12:00:53.747365",
     "status": "completed"
    },
    "tags": []
   },
   "source": [
    "---\n",
    "## **1.1 Installing topsis library**\n",
    "---"
   ]
  },
  {
   "cell_type": "code",
   "execution_count": 1,
   "id": "ae4b4534",
   "metadata": {
    "_cell_guid": "b1a50ab9-6daf-46cb-8adb-5ec1a94107ac",
    "_uuid": "5a066e3c-bbcd-44d1-b5ca-1ebe7bc54be1",
    "collapsed": false,
    "execution": {
     "iopub.execute_input": "2023-06-09T12:00:53.772428Z",
     "iopub.status.busy": "2023-06-09T12:00:53.767400Z",
     "iopub.status.idle": "2023-06-09T12:01:08.927237Z",
     "shell.execute_reply": "2023-06-09T12:01:08.923953Z"
    },
    "id": "cd__y922vBm2",
    "jupyter": {
     "outputs_hidden": false
    },
    "outputId": "7529eb23-30f3-4956-bc45-f54c970645d2",
    "papermill": {
     "duration": 15.172774,
     "end_time": "2023-06-09T12:01:08.931732",
     "exception": false,
     "start_time": "2023-06-09T12:00:53.758958",
     "status": "completed"
    },
    "tags": []
   },
   "outputs": [
    {
     "name": "stderr",
     "output_type": "stream",
     "text": [
      "Installing package into ‘/usr/local/lib/R/site-library’\n",
      "(as ‘lib’ is unspecified)\n",
      "\n"
     ]
    }
   ],
   "source": [
    "install.packages('topsis')"
   ]
  },
  {
   "cell_type": "markdown",
   "id": "15b7297c",
   "metadata": {
    "id": "PFZGmdcVvBm7",
    "papermill": {
     "duration": 0.004992,
     "end_time": "2023-06-09T12:01:08.944487",
     "exception": false,
     "start_time": "2023-06-09T12:01:08.939495",
     "status": "completed"
    },
    "tags": []
   },
   "source": [
    "---\n",
    "## **1.2 Import the library**\n",
    "---"
   ]
  },
  {
   "cell_type": "code",
   "execution_count": 2,
   "id": "022bac57",
   "metadata": {
    "_cell_guid": "f1f2ef93-39e3-4c32-bb5e-1d7e671a2644",
    "_uuid": "d202d55d-794d-4414-b7a6-ec8ae7d6c92d",
    "collapsed": false,
    "execution": {
     "iopub.execute_input": "2023-06-09T12:01:08.988691Z",
     "iopub.status.busy": "2023-06-09T12:01:08.959972Z",
     "iopub.status.idle": "2023-06-09T12:01:09.016375Z",
     "shell.execute_reply": "2023-06-09T12:01:09.014884Z"
    },
    "id": "e61rTaX2vBm8",
    "jupyter": {
     "outputs_hidden": false
    },
    "papermill": {
     "duration": 0.068694,
     "end_time": "2023-06-09T12:01:09.020045",
     "exception": false,
     "start_time": "2023-06-09T12:01:08.951351",
     "status": "completed"
    },
    "tags": []
   },
   "outputs": [],
   "source": [
    "library(topsis)"
   ]
  },
  {
   "cell_type": "markdown",
   "id": "a7958f27",
   "metadata": {
    "id": "OW4cP0u4yCFF",
    "papermill": {
     "duration": 0.004123,
     "end_time": "2023-06-09T12:01:09.028863",
     "exception": false,
     "start_time": "2023-06-09T12:01:09.024740",
     "status": "completed"
    },
    "tags": []
   },
   "source": [
    "\n",
    "## **1.4 Read the dataset**\n",
    "---"
   ]
  },
  {
   "cell_type": "code",
   "execution_count": 3,
   "id": "d2065c20",
   "metadata": {
    "_cell_guid": "7e2d1105-9816-472c-8ba1-a340f4a5c326",
    "_uuid": "affe3387-ab90-45ea-845c-dfa84c74994a",
    "collapsed": false,
    "execution": {
     "iopub.execute_input": "2023-06-09T12:01:09.044252Z",
     "iopub.status.busy": "2023-06-09T12:01:09.042903Z",
     "iopub.status.idle": "2023-06-09T12:01:09.132971Z",
     "shell.execute_reply": "2023-06-09T12:01:09.130214Z"
    },
    "id": "DUEzfl2WvBnA",
    "jupyter": {
     "outputs_hidden": false
    },
    "outputId": "eff2f7cd-0c7d-45e7-ba4e-0b264db25540",
    "papermill": {
     "duration": 0.103177,
     "end_time": "2023-06-09T12:01:09.137750",
     "exception": false,
     "start_time": "2023-06-09T12:01:09.034573",
     "status": "completed"
    },
    "tags": []
   },
   "outputs": [
    {
     "data": {
      "text/html": [
       "<table class=\"dataframe\">\n",
       "<caption>A data.frame: 5 × 5</caption>\n",
       "<thead>\n",
       "\t<tr><th scope=col>Model</th><th scope=col>Corr</th><th scope=col>Rseq</th><th scope=col>RMSE</th><th scope=col>Accuracy</th></tr>\n",
       "\t<tr><th scope=col>&lt;chr&gt;</th><th scope=col>&lt;dbl&gt;</th><th scope=col>&lt;dbl&gt;</th><th scope=col>&lt;dbl&gt;</th><th scope=col>&lt;dbl&gt;</th></tr>\n",
       "</thead>\n",
       "<tbody>\n",
       "\t<tr><td>M1</td><td>0.79</td><td>0.62</td><td>1.25</td><td>60.89</td></tr>\n",
       "\t<tr><td>M2</td><td>0.66</td><td>0.44</td><td>2.89</td><td>63.07</td></tr>\n",
       "\t<tr><td>M3</td><td>0.56</td><td>0.31</td><td>1.57</td><td>62.87</td></tr>\n",
       "\t<tr><td>M4</td><td>0.82</td><td>0.67</td><td>2.68</td><td>70.19</td></tr>\n",
       "\t<tr><td>M5</td><td>0.75</td><td>0.56</td><td>1.30</td><td>80.39</td></tr>\n",
       "</tbody>\n",
       "</table>\n"
      ],
      "text/latex": [
       "A data.frame: 5 × 5\n",
       "\\begin{tabular}{lllll}\n",
       " Model & Corr & Rseq & RMSE & Accuracy\\\\\n",
       " <chr> & <dbl> & <dbl> & <dbl> & <dbl>\\\\\n",
       "\\hline\n",
       "\t M1 & 0.79 & 0.62 & 1.25 & 60.89\\\\\n",
       "\t M2 & 0.66 & 0.44 & 2.89 & 63.07\\\\\n",
       "\t M3 & 0.56 & 0.31 & 1.57 & 62.87\\\\\n",
       "\t M4 & 0.82 & 0.67 & 2.68 & 70.19\\\\\n",
       "\t M5 & 0.75 & 0.56 & 1.30 & 80.39\\\\\n",
       "\\end{tabular}\n"
      ],
      "text/markdown": [
       "\n",
       "A data.frame: 5 × 5\n",
       "\n",
       "| Model &lt;chr&gt; | Corr &lt;dbl&gt; | Rseq &lt;dbl&gt; | RMSE &lt;dbl&gt; | Accuracy &lt;dbl&gt; |\n",
       "|---|---|---|---|---|\n",
       "| M1 | 0.79 | 0.62 | 1.25 | 60.89 |\n",
       "| M2 | 0.66 | 0.44 | 2.89 | 63.07 |\n",
       "| M3 | 0.56 | 0.31 | 1.57 | 62.87 |\n",
       "| M4 | 0.82 | 0.67 | 2.68 | 70.19 |\n",
       "| M5 | 0.75 | 0.56 | 1.30 | 80.39 |\n",
       "\n"
      ],
      "text/plain": [
       "  Model Corr Rseq RMSE Accuracy\n",
       "1 M1    0.79 0.62 1.25 60.89   \n",
       "2 M2    0.66 0.44 2.89 63.07   \n",
       "3 M3    0.56 0.31 1.57 62.87   \n",
       "4 M4    0.82 0.67 2.68 70.19   \n",
       "5 M5    0.75 0.56 1.30 80.39   "
      ]
     },
     "metadata": {},
     "output_type": "display_data"
    }
   ],
   "source": [
    "dataset=read.csv('/kaggle/input/practise-mcdm-using-topsis/Topsis-Dataset.csv')\n",
    "dataset"
   ]
  },
  {
   "cell_type": "markdown",
   "id": "1accbd05",
   "metadata": {
    "id": "5zyzrToXvBnB",
    "papermill": {
     "duration": 0.004219,
     "end_time": "2023-06-09T12:01:09.148268",
     "exception": false,
     "start_time": "2023-06-09T12:01:09.144049",
     "status": "completed"
    },
    "tags": []
   },
   "source": [
    "---\n",
    "## **1.5 Convert the dataset to Matrix**\n",
    "---"
   ]
  },
  {
   "cell_type": "code",
   "execution_count": 4,
   "id": "7e70c062",
   "metadata": {
    "_cell_guid": "30d53597-98b7-4aeb-9d88-375f55b9f343",
    "_uuid": "6efe8de2-e55c-4db6-ba2b-0c4e1b9d0dad",
    "collapsed": false,
    "execution": {
     "iopub.execute_input": "2023-06-09T12:01:09.165676Z",
     "iopub.status.busy": "2023-06-09T12:01:09.164320Z",
     "iopub.status.idle": "2023-06-09T12:01:09.195057Z",
     "shell.execute_reply": "2023-06-09T12:01:09.192209Z"
    },
    "id": "BqmdotlVvBnB",
    "jupyter": {
     "outputs_hidden": false
    },
    "outputId": "e1c2b535-4ee5-4910-9e59-1e598eb9fde4",
    "papermill": {
     "duration": 0.04157,
     "end_time": "2023-06-09T12:01:09.199335",
     "exception": false,
     "start_time": "2023-06-09T12:01:09.157765",
     "status": "completed"
    },
    "tags": []
   },
   "outputs": [
    {
     "data": {
      "text/html": [
       "<table class=\"dataframe\">\n",
       "<caption>A matrix: 5 × 4 of type dbl</caption>\n",
       "<thead>\n",
       "\t<tr><th scope=col>Corr</th><th scope=col>Rseq</th><th scope=col>RMSE</th><th scope=col>Accuracy</th></tr>\n",
       "</thead>\n",
       "<tbody>\n",
       "\t<tr><td>0.79</td><td>0.62</td><td>1.25</td><td>60.89</td></tr>\n",
       "\t<tr><td>0.66</td><td>0.44</td><td>2.89</td><td>63.07</td></tr>\n",
       "\t<tr><td>0.56</td><td>0.31</td><td>1.57</td><td>62.87</td></tr>\n",
       "\t<tr><td>0.82</td><td>0.67</td><td>2.68</td><td>70.19</td></tr>\n",
       "\t<tr><td>0.75</td><td>0.56</td><td>1.30</td><td>80.39</td></tr>\n",
       "</tbody>\n",
       "</table>\n"
      ],
      "text/latex": [
       "A matrix: 5 × 4 of type dbl\n",
       "\\begin{tabular}{llll}\n",
       " Corr & Rseq & RMSE & Accuracy\\\\\n",
       "\\hline\n",
       "\t 0.79 & 0.62 & 1.25 & 60.89\\\\\n",
       "\t 0.66 & 0.44 & 2.89 & 63.07\\\\\n",
       "\t 0.56 & 0.31 & 1.57 & 62.87\\\\\n",
       "\t 0.82 & 0.67 & 2.68 & 70.19\\\\\n",
       "\t 0.75 & 0.56 & 1.30 & 80.39\\\\\n",
       "\\end{tabular}\n"
      ],
      "text/markdown": [
       "\n",
       "A matrix: 5 × 4 of type dbl\n",
       "\n",
       "| Corr | Rseq | RMSE | Accuracy |\n",
       "|---|---|---|---|\n",
       "| 0.79 | 0.62 | 1.25 | 60.89 |\n",
       "| 0.66 | 0.44 | 2.89 | 63.07 |\n",
       "| 0.56 | 0.31 | 1.57 | 62.87 |\n",
       "| 0.82 | 0.67 | 2.68 | 70.19 |\n",
       "| 0.75 | 0.56 | 1.30 | 80.39 |\n",
       "\n"
      ],
      "text/plain": [
       "     Corr Rseq RMSE Accuracy\n",
       "[1,] 0.79 0.62 1.25 60.89   \n",
       "[2,] 0.66 0.44 2.89 63.07   \n",
       "[3,] 0.56 0.31 1.57 62.87   \n",
       "[4,] 0.82 0.67 2.68 70.19   \n",
       "[5,] 0.75 0.56 1.30 80.39   "
      ]
     },
     "metadata": {},
     "output_type": "display_data"
    }
   ],
   "source": [
    "d <- as.matrix(dataset[,-1]) # -1, drop 1st column\n",
    "d"
   ]
  },
  {
   "cell_type": "markdown",
   "id": "00ed81b6",
   "metadata": {
    "id": "FQiGjcqdvBnC",
    "papermill": {
     "duration": 0.004619,
     "end_time": "2023-06-09T12:01:09.208580",
     "exception": false,
     "start_time": "2023-06-09T12:01:09.203961",
     "status": "completed"
    },
    "tags": []
   },
   "source": [
    "---\n",
    "## **1.6 Assigning the impacts**\n",
    "---"
   ]
  },
  {
   "cell_type": "code",
   "execution_count": 5,
   "id": "565cf2d0",
   "metadata": {
    "_cell_guid": "85e24367-9083-445b-a3a0-12d74a158155",
    "_uuid": "5decaca5-4ec3-4bcd-8d22-a3c19a348c8a",
    "collapsed": false,
    "execution": {
     "iopub.execute_input": "2023-06-09T12:01:09.226126Z",
     "iopub.status.busy": "2023-06-09T12:01:09.224684Z",
     "iopub.status.idle": "2023-06-09T12:01:09.248713Z",
     "shell.execute_reply": "2023-06-09T12:01:09.247164Z"
    },
    "id": "QXxGJZZxvBnD",
    "jupyter": {
     "outputs_hidden": false
    },
    "outputId": "5f85a5f7-2c6d-42a5-a661-9e271fdaa0e7",
    "papermill": {
     "duration": 0.03594,
     "end_time": "2023-06-09T12:01:09.252432",
     "exception": false,
     "start_time": "2023-06-09T12:01:09.216492",
     "status": "completed"
    },
    "tags": []
   },
   "outputs": [
    {
     "data": {
      "text/html": [
       "<style>\n",
       ".list-inline {list-style: none; margin:0; padding: 0}\n",
       ".list-inline>li {display: inline-block}\n",
       ".list-inline>li:not(:last-child)::after {content: \"\\00b7\"; padding: 0 .5ex}\n",
       "</style>\n",
       "<ol class=list-inline><li>'+'</li><li>'+'</li><li>'-'</li><li>'+'</li></ol>\n"
      ],
      "text/latex": [
       "\\begin{enumerate*}\n",
       "\\item '+'\n",
       "\\item '+'\n",
       "\\item '-'\n",
       "\\item '+'\n",
       "\\end{enumerate*}\n"
      ],
      "text/markdown": [
       "1. '+'\n",
       "2. '+'\n",
       "3. '-'\n",
       "4. '+'\n",
       "\n",
       "\n"
      ],
      "text/plain": [
       "[1] \"+\" \"+\" \"-\" \"+\""
      ]
     },
     "metadata": {},
     "output_type": "display_data"
    }
   ],
   "source": [
    "i <- c(\"+\", \"+\", \"-\", \"+\")\n",
    "i"
   ]
  },
  {
   "cell_type": "markdown",
   "id": "a80e3fce",
   "metadata": {
    "id": "uE7G7ylWvBnE",
    "papermill": {
     "duration": 0.006662,
     "end_time": "2023-06-09T12:01:09.265080",
     "exception": false,
     "start_time": "2023-06-09T12:01:09.258418",
     "status": "completed"
    },
    "tags": []
   },
   "source": [
    "---\n",
    "## **1.7 Assigning the weights**\n",
    "---"
   ]
  },
  {
   "cell_type": "code",
   "execution_count": 6,
   "id": "4a61a1fb",
   "metadata": {
    "_cell_guid": "824777a1-8d67-4974-aa75-dce27dc537f9",
    "_uuid": "ed08c8d4-0991-4eb3-a265-c18193630956",
    "collapsed": false,
    "execution": {
     "iopub.execute_input": "2023-06-09T12:01:09.281227Z",
     "iopub.status.busy": "2023-06-09T12:01:09.279236Z",
     "iopub.status.idle": "2023-06-09T12:01:09.301495Z",
     "shell.execute_reply": "2023-06-09T12:01:09.298381Z"
    },
    "id": "A9BX7PiWvBnF",
    "jupyter": {
     "outputs_hidden": false
    },
    "outputId": "35ac73c4-8db9-4aff-c669-de10b13cec39",
    "papermill": {
     "duration": 0.035001,
     "end_time": "2023-06-09T12:01:09.306684",
     "exception": false,
     "start_time": "2023-06-09T12:01:09.271683",
     "status": "completed"
    },
    "tags": []
   },
   "outputs": [
    {
     "data": {
      "text/html": [
       "<style>\n",
       ".list-inline {list-style: none; margin:0; padding: 0}\n",
       ".list-inline>li {display: inline-block}\n",
       ".list-inline>li:not(:last-child)::after {content: \"\\00b7\"; padding: 0 .5ex}\n",
       "</style>\n",
       "<ol class=list-inline><li>1</li><li>1</li><li>1</li><li>1</li></ol>\n"
      ],
      "text/latex": [
       "\\begin{enumerate*}\n",
       "\\item 1\n",
       "\\item 1\n",
       "\\item 1\n",
       "\\item 1\n",
       "\\end{enumerate*}\n"
      ],
      "text/markdown": [
       "1. 1\n",
       "2. 1\n",
       "3. 1\n",
       "4. 1\n",
       "\n",
       "\n"
      ],
      "text/plain": [
       "[1] 1 1 1 1"
      ]
     },
     "metadata": {},
     "output_type": "display_data"
    }
   ],
   "source": [
    "w <- c(1,1,1,1)\n",
    "w"
   ]
  },
  {
   "cell_type": "markdown",
   "id": "aa8a34f0",
   "metadata": {
    "id": "eu3Np3XmvBnG",
    "papermill": {
     "duration": 0.005228,
     "end_time": "2023-06-09T12:01:09.325301",
     "exception": false,
     "start_time": "2023-06-09T12:01:09.320073",
     "status": "completed"
    },
    "tags": []
   },
   "source": [
    "---\n",
    "## **1.8 Calling the topisis function**\n",
    "---"
   ]
  },
  {
   "cell_type": "code",
   "execution_count": 7,
   "id": "e9e296b4",
   "metadata": {
    "_cell_guid": "e653392a-adc7-41b5-a5b3-cfd62b40d3b7",
    "_uuid": "b1b42519-6c1f-41f1-9209-ec2fff912ec6",
    "collapsed": false,
    "execution": {
     "iopub.execute_input": "2023-06-09T12:01:09.346736Z",
     "iopub.status.busy": "2023-06-09T12:01:09.345063Z",
     "iopub.status.idle": "2023-06-09T12:01:09.400596Z",
     "shell.execute_reply": "2023-06-09T12:01:09.387813Z"
    },
    "id": "x7ry5J4uvBnG",
    "jupyter": {
     "outputs_hidden": false
    },
    "outputId": "5828f835-47fc-4baa-ac64-166a2ef9f197",
    "papermill": {
     "duration": 0.070744,
     "end_time": "2023-06-09T12:01:09.404186",
     "exception": false,
     "start_time": "2023-06-09T12:01:09.333442",
     "status": "completed"
    },
    "tags": []
   },
   "outputs": [
    {
     "data": {
      "text/html": [
       "<table class=\"dataframe\">\n",
       "<caption>A data.frame: 5 × 3</caption>\n",
       "<thead>\n",
       "\t<tr><th scope=col>alt.row</th><th scope=col>score</th><th scope=col>rank</th></tr>\n",
       "\t<tr><th scope=col>&lt;int&gt;</th><th scope=col>&lt;dbl&gt;</th><th scope=col>&lt;dbl&gt;</th></tr>\n",
       "</thead>\n",
       "<tbody>\n",
       "\t<tr><td>1</td><td>0.7722097</td><td>2</td></tr>\n",
       "\t<tr><td>2</td><td>0.2255988</td><td>5</td></tr>\n",
       "\t<tr><td>3</td><td>0.4388973</td><td>4</td></tr>\n",
       "\t<tr><td>4</td><td>0.5238779</td><td>3</td></tr>\n",
       "\t<tr><td>5</td><td>0.8113887</td><td>1</td></tr>\n",
       "</tbody>\n",
       "</table>\n"
      ],
      "text/latex": [
       "A data.frame: 5 × 3\n",
       "\\begin{tabular}{lll}\n",
       " alt.row & score & rank\\\\\n",
       " <int> & <dbl> & <dbl>\\\\\n",
       "\\hline\n",
       "\t 1 & 0.7722097 & 2\\\\\n",
       "\t 2 & 0.2255988 & 5\\\\\n",
       "\t 3 & 0.4388973 & 4\\\\\n",
       "\t 4 & 0.5238779 & 3\\\\\n",
       "\t 5 & 0.8113887 & 1\\\\\n",
       "\\end{tabular}\n"
      ],
      "text/markdown": [
       "\n",
       "A data.frame: 5 × 3\n",
       "\n",
       "| alt.row &lt;int&gt; | score &lt;dbl&gt; | rank &lt;dbl&gt; |\n",
       "|---|---|---|\n",
       "| 1 | 0.7722097 | 2 |\n",
       "| 2 | 0.2255988 | 5 |\n",
       "| 3 | 0.4388973 | 4 |\n",
       "| 4 | 0.5238779 | 3 |\n",
       "| 5 | 0.8113887 | 1 |\n",
       "\n"
      ],
      "text/plain": [
       "  alt.row score     rank\n",
       "1 1       0.7722097 2   \n",
       "2 2       0.2255988 5   \n",
       "3 3       0.4388973 4   \n",
       "4 4       0.5238779 3   \n",
       "5 5       0.8113887 1   "
      ]
     },
     "metadata": {},
     "output_type": "display_data"
    }
   ],
   "source": [
    "topsis(d, w, i)"
   ]
  },
  {
   "cell_type": "markdown",
   "id": "d6b266da",
   "metadata": {
    "id": "N6OvLgPd5CM3",
    "papermill": {
     "duration": 0.005957,
     "end_time": "2023-06-09T12:01:09.424241",
     "exception": false,
     "start_time": "2023-06-09T12:01:09.418284",
     "status": "completed"
    },
    "tags": []
   },
   "source": [
    "---\n",
    "## **2 Complete Code**\n",
    "---"
   ]
  },
  {
   "cell_type": "code",
   "execution_count": 8,
   "id": "41868a86",
   "metadata": {
    "_cell_guid": "e653392a-adc7-41b5-a5b3-cfd62b40d3b7",
    "_uuid": "b1b42519-6c1f-41f1-9209-ec2fff912ec6",
    "collapsed": false,
    "execution": {
     "iopub.execute_input": "2023-06-09T12:01:09.447128Z",
     "iopub.status.busy": "2023-06-09T12:01:09.445541Z",
     "iopub.status.idle": "2023-06-09T12:01:09.524772Z",
     "shell.execute_reply": "2023-06-09T12:01:09.521660Z"
    },
    "id": "tJa2HiId5CM4",
    "jupyter": {
     "outputs_hidden": false
    },
    "outputId": "556dc77a-cb00-4802-fca4-f07cf5add033",
    "papermill": {
     "duration": 0.09372,
     "end_time": "2023-06-09T12:01:09.527933",
     "exception": false,
     "start_time": "2023-06-09T12:01:09.434213",
     "status": "completed"
    },
    "tags": []
   },
   "outputs": [
    {
     "data": {
      "text/html": [
       "<table class=\"dataframe\">\n",
       "<caption>A data.frame: 5 × 5</caption>\n",
       "<thead>\n",
       "\t<tr><th scope=col>Model</th><th scope=col>Corr</th><th scope=col>Rseq</th><th scope=col>RMSE</th><th scope=col>Accuracy</th></tr>\n",
       "\t<tr><th scope=col>&lt;chr&gt;</th><th scope=col>&lt;dbl&gt;</th><th scope=col>&lt;dbl&gt;</th><th scope=col>&lt;dbl&gt;</th><th scope=col>&lt;dbl&gt;</th></tr>\n",
       "</thead>\n",
       "<tbody>\n",
       "\t<tr><td>M1</td><td>0.79</td><td>0.62</td><td>1.25</td><td>60.89</td></tr>\n",
       "\t<tr><td>M2</td><td>0.66</td><td>0.44</td><td>2.89</td><td>63.07</td></tr>\n",
       "\t<tr><td>M3</td><td>0.56</td><td>0.31</td><td>1.57</td><td>62.87</td></tr>\n",
       "\t<tr><td>M4</td><td>0.82</td><td>0.67</td><td>2.68</td><td>70.19</td></tr>\n",
       "\t<tr><td>M5</td><td>0.75</td><td>0.56</td><td>1.30</td><td>80.39</td></tr>\n",
       "</tbody>\n",
       "</table>\n"
      ],
      "text/latex": [
       "A data.frame: 5 × 5\n",
       "\\begin{tabular}{lllll}\n",
       " Model & Corr & Rseq & RMSE & Accuracy\\\\\n",
       " <chr> & <dbl> & <dbl> & <dbl> & <dbl>\\\\\n",
       "\\hline\n",
       "\t M1 & 0.79 & 0.62 & 1.25 & 60.89\\\\\n",
       "\t M2 & 0.66 & 0.44 & 2.89 & 63.07\\\\\n",
       "\t M3 & 0.56 & 0.31 & 1.57 & 62.87\\\\\n",
       "\t M4 & 0.82 & 0.67 & 2.68 & 70.19\\\\\n",
       "\t M5 & 0.75 & 0.56 & 1.30 & 80.39\\\\\n",
       "\\end{tabular}\n"
      ],
      "text/markdown": [
       "\n",
       "A data.frame: 5 × 5\n",
       "\n",
       "| Model &lt;chr&gt; | Corr &lt;dbl&gt; | Rseq &lt;dbl&gt; | RMSE &lt;dbl&gt; | Accuracy &lt;dbl&gt; |\n",
       "|---|---|---|---|---|\n",
       "| M1 | 0.79 | 0.62 | 1.25 | 60.89 |\n",
       "| M2 | 0.66 | 0.44 | 2.89 | 63.07 |\n",
       "| M3 | 0.56 | 0.31 | 1.57 | 62.87 |\n",
       "| M4 | 0.82 | 0.67 | 2.68 | 70.19 |\n",
       "| M5 | 0.75 | 0.56 | 1.30 | 80.39 |\n",
       "\n"
      ],
      "text/plain": [
       "  Model Corr Rseq RMSE Accuracy\n",
       "1 M1    0.79 0.62 1.25 60.89   \n",
       "2 M2    0.66 0.44 2.89 63.07   \n",
       "3 M3    0.56 0.31 1.57 62.87   \n",
       "4 M4    0.82 0.67 2.68 70.19   \n",
       "5 M5    0.75 0.56 1.30 80.39   "
      ]
     },
     "metadata": {},
     "output_type": "display_data"
    },
    {
     "data": {
      "text/html": [
       "<table class=\"dataframe\">\n",
       "<caption>A data.frame: 5 × 3</caption>\n",
       "<thead>\n",
       "\t<tr><th scope=col>alt.row</th><th scope=col>score</th><th scope=col>rank</th></tr>\n",
       "\t<tr><th scope=col>&lt;int&gt;</th><th scope=col>&lt;dbl&gt;</th><th scope=col>&lt;dbl&gt;</th></tr>\n",
       "</thead>\n",
       "<tbody>\n",
       "\t<tr><td>1</td><td>0.7722097</td><td>2</td></tr>\n",
       "\t<tr><td>2</td><td>0.2255988</td><td>5</td></tr>\n",
       "\t<tr><td>3</td><td>0.4388973</td><td>4</td></tr>\n",
       "\t<tr><td>4</td><td>0.5238779</td><td>3</td></tr>\n",
       "\t<tr><td>5</td><td>0.8113887</td><td>1</td></tr>\n",
       "</tbody>\n",
       "</table>\n"
      ],
      "text/latex": [
       "A data.frame: 5 × 3\n",
       "\\begin{tabular}{lll}\n",
       " alt.row & score & rank\\\\\n",
       " <int> & <dbl> & <dbl>\\\\\n",
       "\\hline\n",
       "\t 1 & 0.7722097 & 2\\\\\n",
       "\t 2 & 0.2255988 & 5\\\\\n",
       "\t 3 & 0.4388973 & 4\\\\\n",
       "\t 4 & 0.5238779 & 3\\\\\n",
       "\t 5 & 0.8113887 & 1\\\\\n",
       "\\end{tabular}\n"
      ],
      "text/markdown": [
       "\n",
       "A data.frame: 5 × 3\n",
       "\n",
       "| alt.row &lt;int&gt; | score &lt;dbl&gt; | rank &lt;dbl&gt; |\n",
       "|---|---|---|\n",
       "| 1 | 0.7722097 | 2 |\n",
       "| 2 | 0.2255988 | 5 |\n",
       "| 3 | 0.4388973 | 4 |\n",
       "| 4 | 0.5238779 | 3 |\n",
       "| 5 | 0.8113887 | 1 |\n",
       "\n"
      ],
      "text/plain": [
       "  alt.row score     rank\n",
       "1 1       0.7722097 2   \n",
       "2 2       0.2255988 5   \n",
       "3 3       0.4388973 4   \n",
       "4 4       0.5238779 3   \n",
       "5 5       0.8113887 1   "
      ]
     },
     "metadata": {},
     "output_type": "display_data"
    }
   ],
   "source": [
    "library(topsis)\n",
    "dataset=read.csv('/kaggle/input/practise-mcdm-using-topsis/Topsis-Dataset.csv')\n",
    "dataset\n",
    "d <- as.matrix(dataset[,-1]) # -1, drop 1st column\n",
    "i <- c(\"+\", \"+\", \"-\", \"+\")\n",
    "w <- c(1,1,1,1)\n",
    "topsis(d, w, i)"
   ]
  }
 ],
 "metadata": {
  "colab": {
   "collapsed_sections": [],
   "include_colab_link": true,
   "name": "topsis.ipynb",
   "provenance": []
  },
  "gpuClass": "standard",
  "kernelspec": {
   "display_name": "R",
   "language": "R",
   "name": "ir"
  },
  "language_info": {
   "codemirror_mode": "r",
   "file_extension": ".r",
   "mimetype": "text/x-r-source",
   "name": "R",
   "pygments_lexer": "r",
   "version": "4.0.5"
  },
  "papermill": {
   "default_parameters": {},
   "duration": 20.961847,
   "end_time": "2023-06-09T12:01:09.666909",
   "environment_variables": {},
   "exception": null,
   "input_path": "__notebook__.ipynb",
   "output_path": "__notebook__.ipynb",
   "parameters": {},
   "start_time": "2023-06-09T12:00:48.705062",
   "version": "2.4.0"
  }
 },
 "nbformat": 4,
 "nbformat_minor": 5
}
